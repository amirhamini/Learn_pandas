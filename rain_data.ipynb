{
 "cells": [
  {
   "cell_type": "code",
   "execution_count": 1,
   "metadata": {
    "collapsed": true
   },
   "outputs": [],
   "source": [
    "import pandas as pd"
   ]
  },
  {
   "cell_type": "code",
   "execution_count": 2,
   "metadata": {
    "collapsed": true
   },
   "outputs": [],
   "source": [
    "df_init = pd.read_csv('./Data/train.csv')"
   ]
  },
  {
   "cell_type": "code",
   "execution_count": 3,
   "metadata": {
    "collapsed": false
   },
   "outputs": [
    {
     "name": "stdout",
     "output_type": "stream",
     "text": [
      "Int64Index([       0,        1,        2,        3,        4,        5,\n",
      "                   6,        7,        8,        9, \n",
      "            ...\n",
      "            13765191, 13765192, 13765193, 13765194, 13765195, 13765196,\n",
      "            13765197, 13765198, 13765199, 13765200],\n",
      "           dtype='int64', length=13765201)\n"
     ]
    }
   ],
   "source": [
    "print df_init.index"
   ]
  },
  {
   "cell_type": "code",
   "execution_count": 4,
   "metadata": {
    "collapsed": false
   },
   "outputs": [
    {
     "name": "stdout",
     "output_type": "stream",
     "text": [
      "Index([u'Id', u'minutes_past', u'radardist_km', u'Ref', u'Ref_5x5_10th',\n",
      "       u'Ref_5x5_50th', u'Ref_5x5_90th', u'RefComposite',\n",
      "       u'RefComposite_5x5_10th', u'RefComposite_5x5_50th',\n",
      "       u'RefComposite_5x5_90th', u'RhoHV', u'RhoHV_5x5_10th',\n",
      "       u'RhoHV_5x5_50th', u'RhoHV_5x5_90th', u'Zdr', u'Zdr_5x5_10th',\n",
      "       u'Zdr_5x5_50th', u'Zdr_5x5_90th', u'Kdp', u'Kdp_5x5_10th',\n",
      "       u'Kdp_5x5_50th', u'Kdp_5x5_90th', u'Expected'],\n",
      "      dtype='object')\n"
     ]
    }
   ],
   "source": [
    "print df_init.columns"
   ]
  },
  {
   "cell_type": "code",
   "execution_count": 5,
   "metadata": {
    "collapsed": false
   },
   "outputs": [
    {
     "name": "stdout",
     "output_type": "stream",
     "text": [
      "(13765201, 24)\n"
     ]
    }
   ],
   "source": [
    "print df_init.shape"
   ]
  },
  {
   "cell_type": "code",
   "execution_count": 6,
   "metadata": {
    "collapsed": false
   },
   "outputs": [
    {
     "name": "stdout",
     "output_type": "stream",
     "text": [
      "   Id  minutes_past  radardist_km   Ref  Ref_5x5_10th  Ref_5x5_50th  \\\n",
      "0   1             3            10   NaN           NaN           NaN   \n",
      "1   1            16            10   NaN           NaN           NaN   \n",
      "2   1            25            10   NaN           NaN           NaN   \n",
      "3   1            35            10   NaN           NaN           NaN   \n",
      "4   1            45            10   NaN           NaN           NaN   \n",
      "5   1            55            10   NaN           NaN           NaN   \n",
      "6   2             1             2   9.0           5.0           7.5   \n",
      "7   2             6             2  26.5          22.5          25.5   \n",
      "8   2            11             2  21.5          15.5          20.5   \n",
      "9   2            16             2  18.0          14.0          17.5   \n",
      "\n",
      "   Ref_5x5_90th  RefComposite  RefComposite_5x5_10th  RefComposite_5x5_50th  \\\n",
      "0           NaN           NaN                    NaN                    NaN   \n",
      "1           NaN           NaN                    NaN                    NaN   \n",
      "2           NaN           NaN                    NaN                    NaN   \n",
      "3           NaN           NaN                    NaN                    NaN   \n",
      "4           NaN           NaN                    NaN                    NaN   \n",
      "5           NaN           NaN                    NaN                    NaN   \n",
      "6          10.5          15.0                   10.5                   16.5   \n",
      "7          31.5          26.5                   26.5                   28.5   \n",
      "8          25.0          26.5                   23.5                   25.0   \n",
      "9          21.0          20.5                   18.0                   20.5   \n",
      "\n",
      "     ...     RhoHV_5x5_90th     Zdr  Zdr_5x5_10th  Zdr_5x5_50th  Zdr_5x5_90th  \\\n",
      "0    ...                NaN     NaN           NaN           NaN           NaN   \n",
      "1    ...                NaN     NaN           NaN           NaN           NaN   \n",
      "2    ...                NaN     NaN           NaN           NaN           NaN   \n",
      "3    ...                NaN     NaN           NaN           NaN           NaN   \n",
      "4    ...                NaN     NaN           NaN           NaN           NaN   \n",
      "5    ...                NaN     NaN           NaN           NaN           NaN   \n",
      "6    ...           0.998333  0.3750       -0.1250        0.3125        0.8750   \n",
      "7    ...           1.005000  0.0625       -0.1875        0.2500        0.6875   \n",
      "8    ...           1.001667  0.3125       -0.0625        0.3125        0.6250   \n",
      "9    ...           1.001667  0.2500        0.1250        0.3750        0.6875   \n",
      "\n",
      "        Kdp  Kdp_5x5_10th  Kdp_5x5_50th  Kdp_5x5_90th  Expected  \n",
      "0       NaN           NaN           NaN           NaN     0.254  \n",
      "1       NaN           NaN           NaN           NaN     0.254  \n",
      "2       NaN           NaN           NaN           NaN     0.254  \n",
      "3       NaN           NaN           NaN           NaN     0.254  \n",
      "4       NaN           NaN           NaN           NaN     0.254  \n",
      "5       NaN           NaN           NaN           NaN     0.254  \n",
      "6  1.059998     -1.410004     -0.350006      1.059998     1.016  \n",
      "7       NaN           NaN           NaN      1.409988     1.016  \n",
      "8  0.349991           NaN     -0.350006      1.759994     1.016  \n",
      "9  0.349991     -1.059998      0.000000      1.059998     1.016  \n",
      "\n",
      "[10 rows x 24 columns]\n"
     ]
    }
   ],
   "source": [
    "print df_init.iloc[0:10]"
   ]
  },
  {
   "cell_type": "markdown",
   "metadata": {},
   "source": [
    "Let's drop any row that has at least one NaN in it"
   ]
  },
  {
   "cell_type": "code",
   "execution_count": 7,
   "metadata": {
    "collapsed": true
   },
   "outputs": [],
   "source": [
    "df_nan_dropped= df_init.dropna(subset=df_init.columns, how='any')"
   ]
  },
  {
   "cell_type": "code",
   "execution_count": 8,
   "metadata": {
    "collapsed": false
   },
   "outputs": [
    {
     "name": "stdout",
     "output_type": "stream",
     "text": [
      "     Id  minutes_past  radardist_km   Ref  Ref_5x5_10th  Ref_5x5_50th  \\\n",
      "6     2             1             2   9.0           5.0           7.5   \n",
      "9     2            16             2  18.0          14.0          17.5   \n",
      "10    2            21             2  24.5          16.5          21.0   \n",
      "11    2            26             2  12.0          12.0          16.0   \n",
      "12    2            31             2  22.5          19.0          22.0   \n",
      "13    2            37             2  14.0          14.0          18.5   \n",
      "14    2            42             2  12.0          11.0          12.5   \n",
      "15    2            47             2   1.5           3.5           7.0   \n",
      "16    2            53             2  16.0          14.5          18.0   \n",
      "103  10             2            10  32.5          32.0          35.0   \n",
      "\n",
      "     Ref_5x5_90th  RefComposite  RefComposite_5x5_10th  RefComposite_5x5_50th  \\\n",
      "6            10.5          15.0                   10.5                   16.5   \n",
      "9            21.0          20.5                   18.0                   20.5   \n",
      "10           24.5          24.5                   21.0                   24.0   \n",
      "11           20.0          16.5                   17.0                   19.0   \n",
      "12           25.0          26.0                   23.5                   25.5   \n",
      "13           21.0          19.5                   20.0                   21.0   \n",
      "14           17.0          19.5                   18.0                   21.0   \n",
      "15           10.5          18.0                   16.5                   18.5   \n",
      "16           23.5          28.0                   23.5                   26.5   \n",
      "103          37.0          35.0                   33.5                   35.5   \n",
      "\n",
      "       ...     RhoHV_5x5_90th     Zdr  Zdr_5x5_10th  Zdr_5x5_50th  \\\n",
      "6      ...           0.998333  0.3750       -0.1250        0.3125   \n",
      "9      ...           1.001667  0.2500        0.1250        0.3750   \n",
      "10     ...           0.998333  0.2500        0.0625        0.1875   \n",
      "11     ...           0.998333  0.5625        0.2500        0.4375   \n",
      "12     ...           1.001667  0.0000       -0.1875        0.2500   \n",
      "13     ...           0.998333  0.5000        0.1875        0.4375   \n",
      "14     ...           0.998333  0.6250        0.3750        0.6250   \n",
      "15     ...           0.998333  0.3750        0.1875        0.5000   \n",
      "16     ...           0.998333  0.8750        0.6250        0.9375   \n",
      "103    ...           0.991667  1.8750       -1.9375        0.3750   \n",
      "\n",
      "     Zdr_5x5_90th        Kdp  Kdp_5x5_10th  Kdp_5x5_50th  Kdp_5x5_90th  \\\n",
      "6          0.8750   1.059998     -1.410004     -0.350006      1.059998   \n",
      "9          0.6875   0.349991     -1.059998      0.000000      1.059998   \n",
      "10         0.5625  -0.350006     -1.059998     -0.350006      1.759994   \n",
      "11         0.6875  -1.760010     -1.760010     -0.350006      0.709991   \n",
      "12         0.6250  -1.059998     -2.120010     -0.710007      0.349991   \n",
      "13         0.8125   0.000000     -1.760010     -0.350006      1.059998   \n",
      "14         0.8750  -0.350006     -0.350006      0.000000      0.349991   \n",
      "15         0.6875   0.349991     -2.110001     -0.350006      1.059998   \n",
      "16         1.3750  -0.350006     -1.410004     -0.350006      2.119995   \n",
      "103        2.6875  10.989990     -6.330002      0.709991     11.089996   \n",
      "\n",
      "     Expected  \n",
      "6       1.016  \n",
      "9       1.016  \n",
      "10      1.016  \n",
      "11      1.016  \n",
      "12      1.016  \n",
      "13      1.016  \n",
      "14      1.016  \n",
      "15      1.016  \n",
      "16      1.016  \n",
      "103     0.010  \n",
      "\n",
      "[10 rows x 24 columns]\n"
     ]
    }
   ],
   "source": [
    "print df_nan_dropped.iloc[0:10]"
   ]
  },
  {
   "cell_type": "code",
   "execution_count": 11,
   "metadata": {
    "collapsed": false
   },
   "outputs": [
    {
     "name": "stdout",
     "output_type": "stream",
     "text": [
      "(2769088, 24)\n"
     ]
    }
   ],
   "source": [
    "print df_nan_dropped.shape"
   ]
  },
  {
   "cell_type": "code",
   "execution_count": null,
   "metadata": {
    "collapsed": true
   },
   "outputs": [],
   "source": []
  }
 ],
 "metadata": {
  "kernelspec": {
   "display_name": "Python 2",
   "language": "python",
   "name": "python2"
  },
  "language_info": {
   "codemirror_mode": {
    "name": "ipython",
    "version": 2
   },
   "file_extension": ".py",
   "mimetype": "text/x-python",
   "name": "python",
   "nbconvert_exporter": "python",
   "pygments_lexer": "ipython2",
   "version": "2.7.10"
  }
 },
 "nbformat": 4,
 "nbformat_minor": 0
}
